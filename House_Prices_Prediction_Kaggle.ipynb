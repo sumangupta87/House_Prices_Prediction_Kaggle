{
  "nbformat": 4,
  "nbformat_minor": 0,
  "metadata": {
    "colab": {
      "name": "House_Prices_Prediction_Kaggle.ipynb",
      "provenance": [],
      "authorship_tag": "ABX9TyNTVXLPY4pZvkV+ibd5UJeT",
      "include_colab_link": true
    },
    "kernelspec": {
      "name": "python3",
      "display_name": "Python 3"
    },
    "language_info": {
      "name": "python"
    }
  },
  "cells": [
    {
      "cell_type": "markdown",
      "metadata": {
        "id": "view-in-github",
        "colab_type": "text"
      },
      "source": [
        "<a href=\"https://colab.research.google.com/github/sumangupta87/House_Prices_Prediction_Kaggle/blob/main/House_Prices_Prediction_Kaggle.ipynb\" target=\"_parent\"><img src=\"https://colab.research.google.com/assets/colab-badge.svg\" alt=\"Open In Colab\"/></a>"
      ]
    },
    {
      "cell_type": "code",
      "execution_count": null,
      "metadata": {
        "id": "weg86k0liYWb"
      },
      "outputs": [],
      "source": []
    }
  ]
}